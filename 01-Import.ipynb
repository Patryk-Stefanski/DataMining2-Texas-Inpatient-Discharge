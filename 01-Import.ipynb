{
 "cells": [
  {
   "cell_type": "markdown",
   "metadata": {
    "Collapsed": "false"
   },
   "source": [
    "# Texas Hospital Discharge - Import"
   ]
  },
  {
   "cell_type": "markdown",
   "metadata": {},
   "source": [
    "## Setup"
   ]
  },
  {
   "cell_type": "code",
   "execution_count": 1,
   "metadata": {
    "Collapsed": "false"
   },
   "outputs": [],
   "source": [
    "import pandas as pd\n",
    "import numpy as np\n",
    "import matplotlib.pyplot as plt\n",
    "import matplotlib\n",
    "\n",
    "from scipy import stats\n",
    "import yaml, time, sys, os, glob\n",
    "\n",
    "import seaborn as sns\n",
    "sns.set_style(\"darkgrid\")\n",
    "\n",
    "from IPython.display import display, Markdown\n",
    "pd.set_option('display.max_columns', None)  \n",
    "\n",
    "DATASET = \"Texas_Inpatient_Discharge\"\n",
    "SPLIT_TRAINING = True\n",
    "DEBUG = False\n",
    "SEED = 42\n",
    "\n",
    "COLAB = 'google.colab' in sys.modules\n",
    "if COLAB:\n",
    "    ROOT = f\"/content/gdrive/MyDrive/datasets/{DATASET.replace(' ','_')}/\"\n",
    "else:\n",
    "    ROOT = \"./\""
   ]
  },
  {
   "cell_type": "code",
   "execution_count": 2,
   "metadata": {},
   "outputs": [],
   "source": [
    "if COLAB:\n",
    "  from google.colab import drive\n",
    "  if not os.path.isdir(\"/content/gdrive\"):\n",
    "    drive.mount(\"/content/gdrive\")\n",
    "    d = \"/content/gdrive/MyDrive/datasets\"\n",
    "    if not os.path.isdir(d): os.makedirs(d)\n",
    "  if not os.path.isdir(ROOT): os.makedirs(ROOT)\n",
    "\n",
    "def makedirs(d):\n",
    "  if COLAB:\n",
    "    if not os.path.isdir(ROOT+d): os.makedirs(ROOT+d)\n",
    "  else:\n",
    "    if not os.path.isdir(ROOT+d): os.makedirs(ROOT+d, mode=0o777, exist_ok=True)\n",
    "\n",
    "for d in ['doc','orig','data','output']: makedirs(d)"
   ]
  },
  {
   "cell_type": "markdown",
   "metadata": {
    "Collapsed": "false"
   },
   "source": [
    "## Download Files"
   ]
  },
  {
   "cell_type": "code",
   "execution_count": 3,
   "metadata": {
    "Collapsed": "false"
   },
   "outputs": [
    {
     "name": "stdout",
     "output_type": "stream",
     "text": [
      "Using local copy of my_lib.py in folder .\n",
      "Using local copy of train.csv.gz in folder orig\n",
      "Using local copy of grading.csv.gz in folder orig\n",
      "Using local copy of Facility_type1q2013_tab.zip in folder orig\n",
      "Using local copy of Facility_type2q2013_tab.zip in folder orig\n",
      "Using local copy of Facility_type3q2013_tab.zip in folder orig\n",
      "Using local copy of Facility_type4q2013_tab.zip in folder orig\n",
      "Using local copy of UserManual1Q2013.pdf in folder doc\n"
     ]
    }
   ],
   "source": [
    "URL = \"https://setu-datamining2.github.io/live/topics/21-Assignments/03-Texas_Inpatient_Discharge/files/\"\n",
    "\n",
    "files = \"my_lib.py train.csv.gz grading.csv.gz Facility_type1q2013_tab.zip Facility_type2q2013_tab.zip Facility_type3q2013_tab.zip Facility_type4q2013_tab.zip UserManual1Q2013.pdf\"\n",
    "\n",
    "for filename in files.split(\" \"):\n",
    "    \n",
    "    ext = filename.split(\".\")[-1]\n",
    "    dest = {\"pdf\":\"doc\", \"py\":\".\", \"ipynb\":\".\", \"gz\":\"orig\", \"zip\":\"orig\"}[ext]\n",
    "   \n",
    "    source = f\"{URL}/{filename}\"\n",
    "    target = f\"{ROOT}/{dest}/{filename}\"\n",
    "\n",
    "    if not os.path.isfile(target):\n",
    "        print (f\"Downloading remote file {filename}\", sep=\"\")\n",
    "        import urllib.request\n",
    "        urllib.request.urlretrieve(source, target)\n",
    "    else:\n",
    "        print(f\"Using local copy of {filename} in folder {dest}\") "
   ]
  },
  {
   "cell_type": "code",
   "execution_count": 4,
   "metadata": {},
   "outputs": [],
   "source": [
    "%load_ext autoreload\n",
    "%autoreload 2\n",
    "\n",
    "import my_lib"
   ]
  },
  {
   "cell_type": "code",
   "execution_count": 5,
   "metadata": {
    "Collapsed": "false"
   },
   "outputs": [
    {
     "data": {
      "text/plain": [
       "(1000000, 194)"
      ]
     },
     "execution_count": 5,
     "metadata": {},
     "output_type": "execute_result"
    }
   ],
   "source": [
    "df = pd.read_csv(f\"{ROOT}/orig/train.csv.gz\", dtype=str)\n",
    "df.shape"
   ]
  },
  {
   "cell_type": "markdown",
   "metadata": {
    "Collapsed": "false"
   },
   "source": [
    "Suggestion: Dataset is waaaay too big - everything is going to be slow => split into smaller sets for development"
   ]
  },
  {
   "cell_type": "markdown",
   "metadata": {
    "Collapsed": "false"
   },
   "source": [
    "## 1.2. Construct Target "
   ]
  },
  {
   "cell_type": "code",
   "execution_count": 6,
   "metadata": {
    "Collapsed": "false"
   },
   "outputs": [
    {
     "data": {
      "text/plain": [
       "count     999698\n",
       "unique       382\n",
       "top         0002\n",
       "freq      259935\n",
       "Name: LENGTH_OF_STAY, dtype: object"
      ]
     },
     "execution_count": 6,
     "metadata": {},
     "output_type": "execute_result"
    }
   ],
   "source": [
    "df.LENGTH_OF_STAY.describe()"
   ]
  },
  {
   "cell_type": "code",
   "execution_count": 7,
   "metadata": {
    "Collapsed": "false"
   },
   "outputs": [],
   "source": [
    "# Drop row with target (LENGTH_OF_STAY) missing values\n",
    "df.dropna(subset=[\"LENGTH_OF_STAY\"], inplace=True)\n",
    "\n",
    "# Convert to int\n",
    "df.LENGTH_OF_STAY = df.LENGTH_OF_STAY.astype(int)"
   ]
  },
  {
   "cell_type": "code",
   "execution_count": 8,
   "metadata": {
    "Collapsed": "false"
   },
   "outputs": [
    {
     "data": {
      "text/plain": [
       "count    999698.000000\n",
       "mean          5.280482\n",
       "std          11.420006\n",
       "min           1.000000\n",
       "25%           2.000000\n",
       "50%           3.000000\n",
       "75%           6.000000\n",
       "max        1961.000000\n",
       "Name: LENGTH_OF_STAY, dtype: float64"
      ]
     },
     "execution_count": 8,
     "metadata": {},
     "output_type": "execute_result"
    }
   ],
   "source": [
    "df.LENGTH_OF_STAY.describe()"
   ]
  },
  {
   "cell_type": "code",
   "execution_count": 9,
   "metadata": {
    "Collapsed": "false"
   },
   "outputs": [],
   "source": [
    "df[\"TARGET\"] = df.LENGTH_OF_STAY.apply(lambda x: \"short\" if x < 3 else (\"medium\" if x <= 6 else \"long\"))"
   ]
  },
  {
   "cell_type": "code",
   "execution_count": 10,
   "metadata": {
    "Collapsed": "false"
   },
   "outputs": [
    {
     "data": {
      "text/plain": [
       "short     414152\n",
       "medium    381437\n",
       "long      204109\n",
       "Name: TARGET, dtype: int64"
      ]
     },
     "execution_count": 10,
     "metadata": {},
     "output_type": "execute_result"
    }
   ],
   "source": [
    "df.TARGET.value_counts(dropna=False)"
   ]
  },
  {
   "cell_type": "markdown",
   "metadata": {
    "Collapsed": "false"
   },
   "source": [
    "## 1.3. Dividing training datasets into subsets"
   ]
  },
  {
   "cell_type": "code",
   "execution_count": 11,
   "metadata": {
    "Collapsed": "false"
   },
   "outputs": [
    {
     "name": "stdout",
     "output_type": "stream",
     "text": [
      "Randomising order ...\n",
      "\n",
      "Break dataset into 10 each with 99969 rows ... 0 1 2 3 4 5 6 7 8 9 \n",
      "Break dataset into 5 each with 199939 rows ... 0 1 2 3 4 \n",
      "Break dataset into 2 each with 499849 rows ... 0 1 \n",
      "Break dataset into 1 each with 999698 rows ... 0 "
     ]
    }
   ],
   "source": [
    "if SPLIT_TRAINING:\n",
    "    \n",
    "#     # Randomising the rows in the dataset\n",
    "#     print(\"Randomising order ...\")\n",
    "#     df_sample = df.sample(frac=1, random_state=SEED)\n",
    "    \n",
    "#     for parts in [10,5,2,1]:\n",
    "#         nrows = df.shape[0] // parts\n",
    "#         print(f\"\\nBreak dataset into {parts} each with {nrows} rows ... \", end=\"\")\n",
    "\n",
    "#         for k in range(parts):\n",
    "#             filename = f\"{ROOT}/data/df_train_sample_%02d_of_%d.csv\" % (k, parts)\n",
    "\n",
    "#             print(k, end=\" \")\n",
    "#             df_sample.iloc[k * nrows : (k + 1) * nrows].to_csv(filename, index=False)\n",
    "            \n",
    "\n",
    "        # Randomising the rows in the dataset\n",
    "    print(\"Randomising order ...\")\n",
    "    df_sample = df.sample(frac=1, random_state=SEED)\n",
    "\n",
    "    for parts in [10,5,2,1]:\n",
    "        nrows = df.shape[0] // parts\n",
    "        print(f\"\\nBreak dataset into {parts} each with {nrows} rows ... \", end=\"\")\n",
    "\n",
    "        for k in range(parts):\n",
    "            filename = f\"{ROOT}/data/df_train_sample_%02d_of_%d.pkl\" % (k, parts)\n",
    "\n",
    "            print(k, end=\" \")\n",
    "            df_sample.iloc[k * nrows : (k + 1) * nrows].to_pickle(filename)"
   ]
  },
  {
   "cell_type": "markdown",
   "metadata": {
    "Collapsed": "false"
   },
   "source": [
    "Dividing the training dataset into subsets will make EDA more performant and easier."
   ]
  },
  {
   "cell_type": "code",
   "execution_count": 12,
   "metadata": {},
   "outputs": [
    {
     "name": "stdout",
     "output_type": "stream",
     "text": [
      "zsh:1: command not found: say\n"
     ]
    }
   ],
   "source": [
    "!say \"splits are saved\""
   ]
  },
  {
   "cell_type": "markdown",
   "metadata": {
    "Collapsed": "false"
   },
   "source": [
    "## Faculty Type"
   ]
  },
  {
   "cell_type": "code",
   "execution_count": 13,
   "metadata": {
    "Collapsed": "false"
   },
   "outputs": [
    {
     "name": "stdout",
     "output_type": "stream",
     "text": [
      "(577, 11)\n"
     ]
    },
    {
     "data": {
      "text/html": [
       "<div>\n",
       "<style scoped>\n",
       "    .dataframe tbody tr th:only-of-type {\n",
       "        vertical-align: middle;\n",
       "    }\n",
       "\n",
       "    .dataframe tbody tr th {\n",
       "        vertical-align: top;\n",
       "    }\n",
       "\n",
       "    .dataframe thead th {\n",
       "        text-align: right;\n",
       "    }\n",
       "</style>\n",
       "<table border=\"1\" class=\"dataframe\">\n",
       "  <thead>\n",
       "    <tr style=\"text-align: right;\">\n",
       "      <th></th>\n",
       "      <th>THCIC_ID</th>\n",
       "      <th>PROVIDER_NAME</th>\n",
       "      <th>FAC_TEACHING_IND</th>\n",
       "      <th>FAC_PSYCH_IND</th>\n",
       "      <th>FAC_REHAB_IND</th>\n",
       "      <th>FAC_ACUTE_CARE_IND</th>\n",
       "      <th>FAC_SNF_IND</th>\n",
       "      <th>FAC_LONG_TERM_AC_IND</th>\n",
       "      <th>FAC_OTHER_LTC_IND</th>\n",
       "      <th>FAC_PEDS_IND</th>\n",
       "      <th>Unnamed: 10</th>\n",
       "    </tr>\n",
       "  </thead>\n",
       "  <tbody>\n",
       "    <tr>\n",
       "      <th>0</th>\n",
       "      <td>100</td>\n",
       "      <td>Austin State Hospital</td>\n",
       "      <td>NaN</td>\n",
       "      <td>X</td>\n",
       "      <td>NaN</td>\n",
       "      <td>NaN</td>\n",
       "      <td>NaN</td>\n",
       "      <td>NaN</td>\n",
       "      <td>NaN</td>\n",
       "      <td>NaN</td>\n",
       "      <td>NaN</td>\n",
       "    </tr>\n",
       "    <tr>\n",
       "      <th>1</th>\n",
       "      <td>101</td>\n",
       "      <td>Big Spring State Hospital</td>\n",
       "      <td>NaN</td>\n",
       "      <td>X</td>\n",
       "      <td>NaN</td>\n",
       "      <td>NaN</td>\n",
       "      <td>NaN</td>\n",
       "      <td>NaN</td>\n",
       "      <td>NaN</td>\n",
       "      <td>NaN</td>\n",
       "      <td>NaN</td>\n",
       "    </tr>\n",
       "    <tr>\n",
       "      <th>2</th>\n",
       "      <td>102</td>\n",
       "      <td>UT Medical Branch Hospital</td>\n",
       "      <td>A</td>\n",
       "      <td>NaN</td>\n",
       "      <td>X</td>\n",
       "      <td>X</td>\n",
       "      <td>NaN</td>\n",
       "      <td>NaN</td>\n",
       "      <td>NaN</td>\n",
       "      <td>X</td>\n",
       "      <td>NaN</td>\n",
       "    </tr>\n",
       "    <tr>\n",
       "      <th>3</th>\n",
       "      <td>104</td>\n",
       "      <td>Rio Grande State Center</td>\n",
       "      <td>NaN</td>\n",
       "      <td>X</td>\n",
       "      <td>NaN</td>\n",
       "      <td>NaN</td>\n",
       "      <td>NaN</td>\n",
       "      <td>NaN</td>\n",
       "      <td>NaN</td>\n",
       "      <td>NaN</td>\n",
       "      <td>NaN</td>\n",
       "    </tr>\n",
       "    <tr>\n",
       "      <th>4</th>\n",
       "      <td>105</td>\n",
       "      <td>UT MD Anderson Cancer Center</td>\n",
       "      <td>A</td>\n",
       "      <td>NaN</td>\n",
       "      <td>NaN</td>\n",
       "      <td>X</td>\n",
       "      <td>NaN</td>\n",
       "      <td>NaN</td>\n",
       "      <td>NaN</td>\n",
       "      <td>NaN</td>\n",
       "      <td>NaN</td>\n",
       "    </tr>\n",
       "  </tbody>\n",
       "</table>\n",
       "</div>"
      ],
      "text/plain": [
       "   THCIC_ID                 PROVIDER_NAME FAC_TEACHING_IND FAC_PSYCH_IND  \\\n",
       "0       100         Austin State Hospital              NaN             X   \n",
       "1       101     Big Spring State Hospital              NaN             X   \n",
       "2       102    UT Medical Branch Hospital                A           NaN   \n",
       "3       104       Rio Grande State Center              NaN             X   \n",
       "4       105  UT MD Anderson Cancer Center                A           NaN   \n",
       "\n",
       "  FAC_REHAB_IND FAC_ACUTE_CARE_IND FAC_SNF_IND FAC_LONG_TERM_AC_IND  \\\n",
       "0           NaN                NaN         NaN                  NaN   \n",
       "1           NaN                NaN         NaN                  NaN   \n",
       "2             X                  X         NaN                  NaN   \n",
       "3           NaN                NaN         NaN                  NaN   \n",
       "4           NaN                  X         NaN                  NaN   \n",
       "\n",
       "  FAC_OTHER_LTC_IND FAC_PEDS_IND  Unnamed: 10  \n",
       "0               NaN          NaN          NaN  \n",
       "1               NaN          NaN          NaN  \n",
       "2               NaN            X          NaN  \n",
       "3               NaN          NaN          NaN  \n",
       "4               NaN          NaN          NaN  "
      ]
     },
     "execution_count": 13,
     "metadata": {},
     "output_type": "execute_result"
    }
   ],
   "source": [
    "df_f = pd.read_csv(f\"{ROOT}/orig/Facility_type1q2013_tab.zip\", sep=\"\\t\")\n",
    "print(df_f.shape)\n",
    "df_f.head()"
   ]
  },
  {
   "cell_type": "code",
   "execution_count": 14,
   "metadata": {
    "Collapsed": "false"
   },
   "outputs": [],
   "source": [
    "df_fs = [pd.read_csv(f\"{ROOT}/orig/Facility_type{k}q2013_tab.zip\", sep=\"\\t\") for k in range(1,5) ]"
   ]
  },
  {
   "cell_type": "code",
   "execution_count": 15,
   "metadata": {
    "Collapsed": "false"
   },
   "outputs": [
    {
     "name": "stdout",
     "output_type": "stream",
     "text": [
      "(577, 11)\n",
      "(584, 11)\n",
      "(587, 11)\n",
      "(587, 11)\n"
     ]
    }
   ],
   "source": [
    "for d in df_fs:\n",
    "    print(d.shape)"
   ]
  },
  {
   "cell_type": "code",
   "execution_count": 16,
   "metadata": {
    "Collapsed": "false"
   },
   "outputs": [
    {
     "data": {
      "text/plain": [
       "(2335, 11)"
      ]
     },
     "execution_count": 16,
     "metadata": {},
     "output_type": "execute_result"
    }
   ],
   "source": [
    "df_f = pd.concat(df_fs, ignore_index=True)\n",
    "df_f.shape"
   ]
  },
  {
   "cell_type": "code",
   "execution_count": 17,
   "metadata": {
    "Collapsed": "false"
   },
   "outputs": [
    {
     "data": {
      "text/plain": [
       "(635, 11)"
      ]
     },
     "execution_count": 17,
     "metadata": {},
     "output_type": "execute_result"
    }
   ],
   "source": [
    "df_f.drop_duplicates(keep=\"last\", inplace=True)\n",
    "df_f.shape"
   ]
  },
  {
   "cell_type": "code",
   "execution_count": 18,
   "metadata": {
    "Collapsed": "false"
   },
   "outputs": [
    {
     "data": {
      "text/plain": [
       "(606, 11)"
      ]
     },
     "execution_count": 18,
     "metadata": {},
     "output_type": "execute_result"
    }
   ],
   "source": [
    "df_f.drop_duplicates(subset=\"THCIC_ID\", keep=\"last\", inplace=True)\n",
    "df_f.shape"
   ]
  },
  {
   "cell_type": "code",
   "execution_count": 19,
   "metadata": {
    "Collapsed": "false"
   },
   "outputs": [
    {
     "data": {
      "text/plain": [
       "Index(['THCIC_ID', 'PROVIDER_NAME', 'FAC_TEACHING_IND', 'FAC_PSYCH_IND',\n",
       "       'FAC_REHAB_IND', 'FAC_ACUTE_CARE_IND', 'FAC_SNF_IND',\n",
       "       'FAC_LONG_TERM_AC_IND', 'FAC_OTHER_LTC_IND', 'FAC_PEDS_IND',\n",
       "       'Unnamed: 10'],\n",
       "      dtype='object')"
      ]
     },
     "execution_count": 19,
     "metadata": {},
     "output_type": "execute_result"
    }
   ],
   "source": [
    "df_f.columns"
   ]
  },
  {
   "cell_type": "code",
   "execution_count": 20,
   "metadata": {
    "Collapsed": "false"
   },
   "outputs": [],
   "source": [
    "df_f.drop(columns=[\"Unnamed: 10\"], inplace=True)"
   ]
  },
  {
   "cell_type": "code",
   "execution_count": 21,
   "metadata": {
    "Collapsed": "false"
   },
   "outputs": [],
   "source": [
    "df_f.fillna(0, inplace=True)"
   ]
  },
  {
   "cell_type": "code",
   "execution_count": 22,
   "metadata": {
    "Collapsed": "false"
   },
   "outputs": [],
   "source": [
    "for c in df_f.columns[2:]:\n",
    "    df_f[c] = df_f[c].map({0:0, \"A\":1, \"C\":1, \"X\":1 ,\"x\":1})"
   ]
  },
  {
   "cell_type": "code",
   "execution_count": 23,
   "metadata": {
    "Collapsed": "false"
   },
   "outputs": [
    {
     "data": {
      "text/html": [
       "<div>\n",
       "<style scoped>\n",
       "    .dataframe tbody tr th:only-of-type {\n",
       "        vertical-align: middle;\n",
       "    }\n",
       "\n",
       "    .dataframe tbody tr th {\n",
       "        vertical-align: top;\n",
       "    }\n",
       "\n",
       "    .dataframe thead th {\n",
       "        text-align: right;\n",
       "    }\n",
       "</style>\n",
       "<table border=\"1\" class=\"dataframe\">\n",
       "  <thead>\n",
       "    <tr style=\"text-align: right;\">\n",
       "      <th></th>\n",
       "      <th>THCIC_ID</th>\n",
       "      <th>PROVIDER_NAME</th>\n",
       "      <th>FAC_TEACHING_IND</th>\n",
       "      <th>FAC_PSYCH_IND</th>\n",
       "      <th>FAC_REHAB_IND</th>\n",
       "      <th>FAC_ACUTE_CARE_IND</th>\n",
       "      <th>FAC_SNF_IND</th>\n",
       "      <th>FAC_LONG_TERM_AC_IND</th>\n",
       "      <th>FAC_OTHER_LTC_IND</th>\n",
       "      <th>FAC_PEDS_IND</th>\n",
       "    </tr>\n",
       "  </thead>\n",
       "  <tbody>\n",
       "    <tr>\n",
       "      <th>347</th>\n",
       "      <td>724900</td>\n",
       "      <td>Brownsville Doctors Hospital</td>\n",
       "      <td>0</td>\n",
       "      <td>0</td>\n",
       "      <td>0</td>\n",
       "      <td>1</td>\n",
       "      <td>0</td>\n",
       "      <td>0</td>\n",
       "      <td>0</td>\n",
       "      <td>1</td>\n",
       "    </tr>\n",
       "    <tr>\n",
       "      <th>499</th>\n",
       "      <td>854000</td>\n",
       "      <td>Twin Creeks Hospital</td>\n",
       "      <td>0</td>\n",
       "      <td>0</td>\n",
       "      <td>1</td>\n",
       "      <td>0</td>\n",
       "      <td>0</td>\n",
       "      <td>0</td>\n",
       "      <td>0</td>\n",
       "      <td>0</td>\n",
       "    </tr>\n",
       "    <tr>\n",
       "      <th>531</th>\n",
       "      <td>907000</td>\n",
       "      <td>Renaissance Hospital-Groves</td>\n",
       "      <td>0</td>\n",
       "      <td>0</td>\n",
       "      <td>0</td>\n",
       "      <td>1</td>\n",
       "      <td>0</td>\n",
       "      <td>0</td>\n",
       "      <td>0</td>\n",
       "      <td>0</td>\n",
       "    </tr>\n",
       "    <tr>\n",
       "      <th>544</th>\n",
       "      <td>939000</td>\n",
       "      <td>GlobalRehab Hospital-San Antonio</td>\n",
       "      <td>0</td>\n",
       "      <td>0</td>\n",
       "      <td>1</td>\n",
       "      <td>0</td>\n",
       "      <td>0</td>\n",
       "      <td>0</td>\n",
       "      <td>0</td>\n",
       "      <td>0</td>\n",
       "    </tr>\n",
       "    <tr>\n",
       "      <th>983</th>\n",
       "      <td>798500</td>\n",
       "      <td>Austin Surgical Hospital</td>\n",
       "      <td>0</td>\n",
       "      <td>0</td>\n",
       "      <td>0</td>\n",
       "      <td>0</td>\n",
       "      <td>0</td>\n",
       "      <td>0</td>\n",
       "      <td>0</td>\n",
       "      <td>1</td>\n",
       "    </tr>\n",
       "  </tbody>\n",
       "</table>\n",
       "</div>"
      ],
      "text/plain": [
       "     THCIC_ID                     PROVIDER_NAME  FAC_TEACHING_IND  \\\n",
       "347    724900      Brownsville Doctors Hospital                 0   \n",
       "499    854000              Twin Creeks Hospital                 0   \n",
       "531    907000       Renaissance Hospital-Groves                 0   \n",
       "544    939000  GlobalRehab Hospital-San Antonio                 0   \n",
       "983    798500          Austin Surgical Hospital                 0   \n",
       "\n",
       "     FAC_PSYCH_IND  FAC_REHAB_IND  FAC_ACUTE_CARE_IND  FAC_SNF_IND  \\\n",
       "347              0              0                   1            0   \n",
       "499              0              1                   0            0   \n",
       "531              0              0                   1            0   \n",
       "544              0              1                   0            0   \n",
       "983              0              0                   0            0   \n",
       "\n",
       "     FAC_LONG_TERM_AC_IND  FAC_OTHER_LTC_IND  FAC_PEDS_IND  \n",
       "347                     0                  0             1  \n",
       "499                     0                  0             0  \n",
       "531                     0                  0             0  \n",
       "544                     0                  0             0  \n",
       "983                     0                  0             1  "
      ]
     },
     "execution_count": 23,
     "metadata": {},
     "output_type": "execute_result"
    }
   ],
   "source": [
    "df_f.head()"
   ]
  },
  {
   "cell_type": "code",
   "execution_count": 24,
   "metadata": {
    "Collapsed": "false"
   },
   "outputs": [],
   "source": [
    "df_f.to_csv(f\"{ROOT}/data/facility.csv\", index=False)"
   ]
  },
  {
   "cell_type": "code",
   "execution_count": 25,
   "metadata": {
    "Collapsed": "false"
   },
   "outputs": [
    {
     "data": {
      "text/plain": [
       "THCIC_ID                                                        342296121\n",
       "PROVIDER_NAME           Brownsville Doctors HospitalTwin Creeks Hospit...\n",
       "FAC_TEACHING_IND                                                       42\n",
       "FAC_PSYCH_IND                                                          94\n",
       "FAC_REHAB_IND                                                         164\n",
       "FAC_ACUTE_CARE_IND                                                    396\n",
       "FAC_SNF_IND                                                            51\n",
       "FAC_LONG_TERM_AC_IND                                                   99\n",
       "FAC_OTHER_LTC_IND                                                       4\n",
       "FAC_PEDS_IND                                                           99\n",
       "dtype: object"
      ]
     },
     "execution_count": 25,
     "metadata": {},
     "output_type": "execute_result"
    }
   ],
   "source": [
    "df_f.sum()"
   ]
  },
  {
   "cell_type": "markdown",
   "metadata": {
    "Collapsed": "false"
   },
   "source": [
    "####  Features explained\n",
    "- THCIC_ID: A unique identifier assigned by the Texas Health Care Information Collection (THCIC) to each hospital in Texas. This column is used to identify the hospital in the dataset.\n",
    "- PROVIDER_NAME: The name of the hospital.\n",
    "- FAC_TEACHING_IND: A binary indicator (0 or 1) that indicates whether the hospital is a teaching hospital (i.e., affiliated with a medical school). A value of 1 means the hospital is a teaching hospital, while a value of 0 means it is not.\n",
    "- FAC_PSYCH_IND: A binary indicator that indicates whether the hospital has a psychiatric unit. A value of 1 means the hospital has a psychiatric unit, while a value of 0 means it does not.\n",
    "- FAC_REHAB_IND: A binary indicator that indicates whether the hospital has a rehabilitation unit. A value of 1 means the hospital has a rehabilitation unit, while a value of 0 means it does not.\n",
    "- FAC_ACUTE_CARE_IND: A binary indicator that indicates whether the hospital provides acute care services. A value of 1 means the hospital provides acute care services, while a value of 0 means it does not.\n",
    "- FAC_SNF_IND: A binary indicator that indicates whether the hospital has a skilled nursing facility (SNF). A value of 1 means the hospital has a SNF, while a value of 0 means it does not.\n",
    "- FAC_LONG_TERM_AC_IND: A binary indicator that indicates whether the hospital has a long-term acute care (LTAC) unit. A value of 1 means the hospital has an LTAC unit, while a value of 0 means it does not.\n",
    "- FAC_OTHER_LTC_IND: A binary indicator that indicates whether the hospital has other long-term care (LTC) services. A value of 1 means the hospital has other LTC services, while a value of 0 means it does not.\n",
    "- FAC_PEDS_IND: A binary indicator that indicates whether the hospital has a pediatric unit. A value of 1 means the hospital has a pediatric unit, while a value of 0 means it does not.\n",
    "\n",
    "\n",
    "\n",
    "\n"
   ]
  },
  {
   "cell_type": "code",
   "execution_count": 26,
   "metadata": {},
   "outputs": [
    {
     "data": {
      "text/html": [
       "<div>\n",
       "<style scoped>\n",
       "    .dataframe tbody tr th:only-of-type {\n",
       "        vertical-align: middle;\n",
       "    }\n",
       "\n",
       "    .dataframe tbody tr th {\n",
       "        vertical-align: top;\n",
       "    }\n",
       "\n",
       "    .dataframe thead th {\n",
       "        text-align: right;\n",
       "    }\n",
       "</style>\n",
       "<table border=\"1\" class=\"dataframe\">\n",
       "  <thead>\n",
       "    <tr style=\"text-align: right;\">\n",
       "      <th></th>\n",
       "      <th>THCIC_ID</th>\n",
       "      <th>PROVIDER_NAME</th>\n",
       "      <th>FAC_TEACHING_IND</th>\n",
       "      <th>FAC_PSYCH_IND</th>\n",
       "      <th>FAC_REHAB_IND</th>\n",
       "      <th>FAC_ACUTE_CARE_IND</th>\n",
       "      <th>FAC_SNF_IND</th>\n",
       "      <th>FAC_LONG_TERM_AC_IND</th>\n",
       "      <th>FAC_OTHER_LTC_IND</th>\n",
       "      <th>FAC_PEDS_IND</th>\n",
       "    </tr>\n",
       "  </thead>\n",
       "  <tbody>\n",
       "    <tr>\n",
       "      <th>347</th>\n",
       "      <td>724900</td>\n",
       "      <td>Brownsville Doctors Hospital</td>\n",
       "      <td>0</td>\n",
       "      <td>0</td>\n",
       "      <td>0</td>\n",
       "      <td>1</td>\n",
       "      <td>0</td>\n",
       "      <td>0</td>\n",
       "      <td>0</td>\n",
       "      <td>1</td>\n",
       "    </tr>\n",
       "    <tr>\n",
       "      <th>499</th>\n",
       "      <td>854000</td>\n",
       "      <td>Twin Creeks Hospital</td>\n",
       "      <td>0</td>\n",
       "      <td>0</td>\n",
       "      <td>1</td>\n",
       "      <td>0</td>\n",
       "      <td>0</td>\n",
       "      <td>0</td>\n",
       "      <td>0</td>\n",
       "      <td>0</td>\n",
       "    </tr>\n",
       "    <tr>\n",
       "      <th>531</th>\n",
       "      <td>907000</td>\n",
       "      <td>Renaissance Hospital-Groves</td>\n",
       "      <td>0</td>\n",
       "      <td>0</td>\n",
       "      <td>0</td>\n",
       "      <td>1</td>\n",
       "      <td>0</td>\n",
       "      <td>0</td>\n",
       "      <td>0</td>\n",
       "      <td>0</td>\n",
       "    </tr>\n",
       "    <tr>\n",
       "      <th>544</th>\n",
       "      <td>939000</td>\n",
       "      <td>GlobalRehab Hospital-San Antonio</td>\n",
       "      <td>0</td>\n",
       "      <td>0</td>\n",
       "      <td>1</td>\n",
       "      <td>0</td>\n",
       "      <td>0</td>\n",
       "      <td>0</td>\n",
       "      <td>0</td>\n",
       "      <td>0</td>\n",
       "    </tr>\n",
       "    <tr>\n",
       "      <th>983</th>\n",
       "      <td>798500</td>\n",
       "      <td>Austin Surgical Hospital</td>\n",
       "      <td>0</td>\n",
       "      <td>0</td>\n",
       "      <td>0</td>\n",
       "      <td>0</td>\n",
       "      <td>0</td>\n",
       "      <td>0</td>\n",
       "      <td>0</td>\n",
       "      <td>1</td>\n",
       "    </tr>\n",
       "    <tr>\n",
       "      <th>...</th>\n",
       "      <td>...</td>\n",
       "      <td>...</td>\n",
       "      <td>...</td>\n",
       "      <td>...</td>\n",
       "      <td>...</td>\n",
       "      <td>...</td>\n",
       "      <td>...</td>\n",
       "      <td>...</td>\n",
       "      <td>...</td>\n",
       "      <td>...</td>\n",
       "    </tr>\n",
       "    <tr>\n",
       "      <th>2330</th>\n",
       "      <td>973320</td>\n",
       "      <td>Post Acute Medical Specialty Hospital Victoria</td>\n",
       "      <td>0</td>\n",
       "      <td>0</td>\n",
       "      <td>0</td>\n",
       "      <td>0</td>\n",
       "      <td>0</td>\n",
       "      <td>1</td>\n",
       "      <td>0</td>\n",
       "      <td>0</td>\n",
       "    </tr>\n",
       "    <tr>\n",
       "      <th>2331</th>\n",
       "      <td>973330</td>\n",
       "      <td>Spring Central Hospital</td>\n",
       "      <td>0</td>\n",
       "      <td>0</td>\n",
       "      <td>0</td>\n",
       "      <td>1</td>\n",
       "      <td>0</td>\n",
       "      <td>0</td>\n",
       "      <td>0</td>\n",
       "      <td>0</td>\n",
       "    </tr>\n",
       "    <tr>\n",
       "      <th>2332</th>\n",
       "      <td>973340</td>\n",
       "      <td>Vibra Hospital of Amarillo</td>\n",
       "      <td>0</td>\n",
       "      <td>0</td>\n",
       "      <td>0</td>\n",
       "      <td>0</td>\n",
       "      <td>0</td>\n",
       "      <td>1</td>\n",
       "      <td>0</td>\n",
       "      <td>0</td>\n",
       "    </tr>\n",
       "    <tr>\n",
       "      <th>2333</th>\n",
       "      <td>973350</td>\n",
       "      <td>Vibra Rehabilitation Hospital Amarillo</td>\n",
       "      <td>0</td>\n",
       "      <td>0</td>\n",
       "      <td>1</td>\n",
       "      <td>0</td>\n",
       "      <td>0</td>\n",
       "      <td>0</td>\n",
       "      <td>0</td>\n",
       "      <td>0</td>\n",
       "    </tr>\n",
       "    <tr>\n",
       "      <th>2334</th>\n",
       "      <td>973390</td>\n",
       "      <td>Star Medical Center</td>\n",
       "      <td>0</td>\n",
       "      <td>0</td>\n",
       "      <td>0</td>\n",
       "      <td>1</td>\n",
       "      <td>0</td>\n",
       "      <td>0</td>\n",
       "      <td>0</td>\n",
       "      <td>0</td>\n",
       "    </tr>\n",
       "  </tbody>\n",
       "</table>\n",
       "<p>606 rows × 10 columns</p>\n",
       "</div>"
      ],
      "text/plain": [
       "      THCIC_ID                                   PROVIDER_NAME  \\\n",
       "347     724900                    Brownsville Doctors Hospital   \n",
       "499     854000                            Twin Creeks Hospital   \n",
       "531     907000                     Renaissance Hospital-Groves   \n",
       "544     939000                GlobalRehab Hospital-San Antonio   \n",
       "983     798500                        Austin Surgical Hospital   \n",
       "...        ...                                             ...   \n",
       "2330    973320  Post Acute Medical Specialty Hospital Victoria   \n",
       "2331    973330                         Spring Central Hospital   \n",
       "2332    973340                      Vibra Hospital of Amarillo   \n",
       "2333    973350          Vibra Rehabilitation Hospital Amarillo   \n",
       "2334    973390                             Star Medical Center   \n",
       "\n",
       "      FAC_TEACHING_IND  FAC_PSYCH_IND  FAC_REHAB_IND  FAC_ACUTE_CARE_IND  \\\n",
       "347                  0              0              0                   1   \n",
       "499                  0              0              1                   0   \n",
       "531                  0              0              0                   1   \n",
       "544                  0              0              1                   0   \n",
       "983                  0              0              0                   0   \n",
       "...                ...            ...            ...                 ...   \n",
       "2330                 0              0              0                   0   \n",
       "2331                 0              0              0                   1   \n",
       "2332                 0              0              0                   0   \n",
       "2333                 0              0              1                   0   \n",
       "2334                 0              0              0                   1   \n",
       "\n",
       "      FAC_SNF_IND  FAC_LONG_TERM_AC_IND  FAC_OTHER_LTC_IND  FAC_PEDS_IND  \n",
       "347             0                     0                  0             1  \n",
       "499             0                     0                  0             0  \n",
       "531             0                     0                  0             0  \n",
       "544             0                     0                  0             0  \n",
       "983             0                     0                  0             1  \n",
       "...           ...                   ...                ...           ...  \n",
       "2330            0                     1                  0             0  \n",
       "2331            0                     0                  0             0  \n",
       "2332            0                     1                  0             0  \n",
       "2333            0                     0                  0             0  \n",
       "2334            0                     0                  0             0  \n",
       "\n",
       "[606 rows x 10 columns]"
      ]
     },
     "execution_count": 26,
     "metadata": {},
     "output_type": "execute_result"
    }
   ],
   "source": [
    "df_f"
   ]
  }
 ],
 "metadata": {
  "kernelspec": {
   "display_name": "Python 3 (ipykernel)",
   "language": "python",
   "name": "python3"
  },
  "language_info": {
   "codemirror_mode": {
    "name": "ipython",
    "version": 3
   },
   "file_extension": ".py",
   "mimetype": "text/x-python",
   "name": "python",
   "nbconvert_exporter": "python",
   "pygments_lexer": "ipython3",
   "version": "3.10.2"
  }
 },
 "nbformat": 4,
 "nbformat_minor": 4
}
